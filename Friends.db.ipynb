{
 "cells": [
  {
   "cell_type": "code",
   "execution_count": 1,
   "metadata": {},
   "outputs": [],
   "source": [
    "import pandas as pd\n",
    "import sqlite3"
   ]
  },
  {
   "cell_type": "markdown",
   "metadata": {},
   "source": [
    "Anslutning till databasen\n",
    "\n",
    "Här upprättar vi en anslutning till SQLite-databasen. Om databasen inte finns, skapas den automatiskt."
   ]
  },
  {
   "cell_type": "code",
   "execution_count": 2,
   "metadata": {},
   "outputs": [],
   "source": [
    "# Anslut till SQLite-databasen\n",
    "con = sqlite3.connect('friends.db')"
   ]
  },
  {
   "cell_type": "markdown",
   "metadata": {},
   "source": [
    "Läs in CSV-filen\n",
    "\n",
    "Vi läser in data från CSV-filen med hjälp av pandas och omvandlar den till en DataFrame."
   ]
  },
  {
   "cell_type": "code",
   "execution_count": 3,
   "metadata": {},
   "outputs": [],
   "source": [
    "# Läs in CSV-filen till en pandas DataFrame\n",
    "df = pd.read_csv('archive/friends_episodes_v3.csv')"
   ]
  },
  {
   "cell_type": "markdown",
   "metadata": {},
   "source": [
    "Visa de första raderna för att kontrollera att data har laddats korrekt\n",
    "\n",
    "Här visar vi de första fem raderna av DataFrame för att verifiera att data har laddats korrekt."
   ]
  },
  {
   "cell_type": "code",
   "execution_count": 4,
   "metadata": {},
   "outputs": [
    {
     "data": {
      "text/html": [
       "<div>\n",
       "<style scoped>\n",
       "    .dataframe tbody tr th:only-of-type {\n",
       "        vertical-align: middle;\n",
       "    }\n",
       "\n",
       "    .dataframe tbody tr th {\n",
       "        vertical-align: top;\n",
       "    }\n",
       "\n",
       "    .dataframe thead th {\n",
       "        text-align: right;\n",
       "    }\n",
       "</style>\n",
       "<table border=\"1\" class=\"dataframe\">\n",
       "  <thead>\n",
       "    <tr style=\"text-align: right;\">\n",
       "      <th></th>\n",
       "      <th>Year_of_prod</th>\n",
       "      <th>Season</th>\n",
       "      <th>Episode Number</th>\n",
       "      <th>Episode_Title</th>\n",
       "      <th>Duration</th>\n",
       "      <th>Summary</th>\n",
       "      <th>Director</th>\n",
       "      <th>Stars</th>\n",
       "      <th>Votes</th>\n",
       "    </tr>\n",
       "  </thead>\n",
       "  <tbody>\n",
       "    <tr>\n",
       "      <th>0</th>\n",
       "      <td>1994</td>\n",
       "      <td>1</td>\n",
       "      <td>1</td>\n",
       "      <td>The One Where Monica Gets a Roommate: The Pilot</td>\n",
       "      <td>22</td>\n",
       "      <td>Monica and the gang introduce Rachel to the \"r...</td>\n",
       "      <td>James Burrows</td>\n",
       "      <td>8.3</td>\n",
       "      <td>7440</td>\n",
       "    </tr>\n",
       "    <tr>\n",
       "      <th>1</th>\n",
       "      <td>1994</td>\n",
       "      <td>1</td>\n",
       "      <td>2</td>\n",
       "      <td>The One with the Sonogram at the End</td>\n",
       "      <td>22</td>\n",
       "      <td>Ross finds out his ex-wife is pregnant. Rachel...</td>\n",
       "      <td>James Burrows</td>\n",
       "      <td>8.1</td>\n",
       "      <td>4888</td>\n",
       "    </tr>\n",
       "    <tr>\n",
       "      <th>2</th>\n",
       "      <td>1994</td>\n",
       "      <td>1</td>\n",
       "      <td>3</td>\n",
       "      <td>The One with the Thumb</td>\n",
       "      <td>22</td>\n",
       "      <td>Monica becomes irritated when everyone likes h...</td>\n",
       "      <td>James Burrows</td>\n",
       "      <td>8.2</td>\n",
       "      <td>4605</td>\n",
       "    </tr>\n",
       "    <tr>\n",
       "      <th>3</th>\n",
       "      <td>1994</td>\n",
       "      <td>1</td>\n",
       "      <td>4</td>\n",
       "      <td>The One with George Stephanopoulos</td>\n",
       "      <td>22</td>\n",
       "      <td>Joey and Chandler take Ross to a hockey game t...</td>\n",
       "      <td>James Burrows</td>\n",
       "      <td>8.1</td>\n",
       "      <td>4468</td>\n",
       "    </tr>\n",
       "    <tr>\n",
       "      <th>4</th>\n",
       "      <td>1994</td>\n",
       "      <td>1</td>\n",
       "      <td>5</td>\n",
       "      <td>The One with the East German Laundry Detergent</td>\n",
       "      <td>22</td>\n",
       "      <td>Eager to spend time with Rachel, Ross pretends...</td>\n",
       "      <td>Pamela Fryman</td>\n",
       "      <td>8.5</td>\n",
       "      <td>4438</td>\n",
       "    </tr>\n",
       "  </tbody>\n",
       "</table>\n",
       "</div>"
      ],
      "text/plain": [
       "   Year_of_prod  Season  Episode Number  \\\n",
       "0          1994       1               1   \n",
       "1          1994       1               2   \n",
       "2          1994       1               3   \n",
       "3          1994       1               4   \n",
       "4          1994       1               5   \n",
       "\n",
       "                                     Episode_Title  Duration  \\\n",
       "0  The One Where Monica Gets a Roommate: The Pilot        22   \n",
       "1             The One with the Sonogram at the End        22   \n",
       "2                           The One with the Thumb        22   \n",
       "3               The One with George Stephanopoulos        22   \n",
       "4   The One with the East German Laundry Detergent        22   \n",
       "\n",
       "                                             Summary       Director  Stars  \\\n",
       "0  Monica and the gang introduce Rachel to the \"r...  James Burrows    8.3   \n",
       "1  Ross finds out his ex-wife is pregnant. Rachel...  James Burrows    8.1   \n",
       "2  Monica becomes irritated when everyone likes h...  James Burrows    8.2   \n",
       "3  Joey and Chandler take Ross to a hockey game t...  James Burrows    8.1   \n",
       "4  Eager to spend time with Rachel, Ross pretends...  Pamela Fryman    8.5   \n",
       "\n",
       "   Votes  \n",
       "0   7440  \n",
       "1   4888  \n",
       "2   4605  \n",
       "3   4468  \n",
       "4   4438  "
      ]
     },
     "execution_count": 4,
     "metadata": {},
     "output_type": "execute_result"
    }
   ],
   "source": [
    "# Visa de första raderna för att kontrollera att data har laddats korrekt\n",
    "df.head()"
   ]
  },
  {
   "cell_type": "markdown",
   "metadata": {},
   "source": [
    " Omvandla kolumnen \"Season\" till heltal (integer):\n",
    "\n",
    "Denna kod omvandlar datatypen för kolumnen \"Season\" till heltal (integer). Detta säkerställer att alla värden i denna kolumn är numeriska och kan användas i analyser.\n",
    "Detta är användbart när du behöver arbeta med kolumner som innehåller siffror och vill försäkra dig om att de har rätt datatyp."
   ]
  },
  {
   "cell_type": "code",
   "execution_count": 5,
   "metadata": {},
   "outputs": [],
   "source": [
    "# Omvandla 'Season'-kolumnen till heltal\n",
    "df['Season'] = df['Season'].astype(int)"
   ]
  },
  {
   "cell_type": "markdown",
   "metadata": {},
   "source": [
    "Omvandla avsnittstitlar till små bokstäver:\n",
    "\n",
    "Denna kod omvandlar alla texter i kolumnen \"Episode_Title\" till små bokstäver. Detta hjälper till att standardisera datan så att all text visas på samma sätt, utan skillnad mellan stora och små bokstäver."
   ]
  },
  {
   "cell_type": "code",
   "execution_count": 6,
   "metadata": {},
   "outputs": [],
   "source": [
    "# Konvertera episodeti till små bokstäver\n",
    "df['Episode_Title'] = df['Episode_Title'].str.lower()\n"
   ]
  },
  {
   "cell_type": "code",
   "execution_count": 7,
   "metadata": {},
   "outputs": [
    {
     "name": "stdout",
     "output_type": "stream",
     "text": [
      "Index(['Year_of_prod', 'Season', 'Episode Number', 'Episode_Title', 'Duration',\n",
      "       'Summary', 'Director', 'Stars', 'Votes'],\n",
      "      dtype='object')\n"
     ]
    }
   ],
   "source": [
    "print(df.columns)\n"
   ]
  },
  {
   "cell_type": "markdown",
   "metadata": {},
   "source": [
    "\n",
    "- **`df.to_sql()`**: Den här funktionen skriver data från DataFrame (`df`) till en SQLite-databas.\n",
    "- **`'episodes'`**: Detta är namnet på tabellen som kommer att skapas eller skrivas till i databasen. Om tabellen inte finns kommer den att skapas.\n",
    "- **`con`**: Representerar anslutningen till databasen (som tidigare definierats med `sqlite3.connect()`).\n",
    "- **`if_exists='replace'`**: Detta innebär att om tabellen `'episodes'` redan finns, kommer den att **ersättas** med den nya tabellen.\n",
    "- **`index=False`**: Detta betyder att indexkolumnen i DataFrame inte kommer att skrivas som en extra kolumn i tabellen.\n",
    "\n",
    "### Resultat:\n",
    "När du kör detta kommer:\n",
    "- En tabell med namnet `'episodes'` att skapas (eller ersättas om den redan finns) i din SQLite-databas.\n",
    "- Data från DataFrame kommer att skrivas till denna tabell.\n",
    "- Index från DataFrame kommer inte att inkluderas som en kolumn i databasen."
   ]
  },
  {
   "cell_type": "code",
   "execution_count": 8,
   "metadata": {},
   "outputs": [
    {
     "data": {
      "text/plain": [
       "236"
      ]
     },
     "execution_count": 8,
     "metadata": {},
     "output_type": "execute_result"
    }
   ],
   "source": [
    "# Skriv DataFrame till SQLite-databasen\n",
    "df.to_sql('episodes', con, if_exists='replace', index=False)\n"
   ]
  },
  {
   "cell_type": "markdown",
   "metadata": {},
   "source": [
    "För att visa de fem bästa avsnitten och de fem sämsta avsnitten baserat på antal röster (Votes):"
   ]
  },
  {
   "cell_type": "code",
   "execution_count": 9,
   "metadata": {},
   "outputs": [
    {
     "name": "stdout",
     "output_type": "stream",
     "text": [
      "De fem bästa avsnitten baserat på antal röster:\n",
      "                                       Episode_Title  Votes\n",
      "235                             the last one: part 2  10381\n",
      "110                the one where everybody finds out   8066\n",
      "0    the one where monica gets a roommate: the pilot   7440\n",
      "234                             the last one: part 1   6221\n",
      "84                          the one with the embryos   6006\n",
      "\n",
      "De fem sämsta avsnitten baserat på antal röster:\n",
      "                              Episode_Title  Votes\n",
      "214         the one with the fertility test   2557\n",
      "209               the one with the boob job   2588\n",
      "204  the one where rachel goes back to work   2601\n",
      "213       the one with the soap opera party   2615\n",
      "212             the one with rachel's dream   2616\n"
     ]
    }
   ],
   "source": [
    "# Visa de 5 bästa avsnitten baserat på antal röster (Votes)\n",
    "top_5_votes = df.nlargest(5, 'Votes')\n",
    "\n",
    "# Visa de 5 sämsta avsnitten baserat på antal röster (Votes)\n",
    "bottom_5_votes = df.nsmallest(5, 'Votes')\n",
    "\n",
    "print(\"De fem bästa avsnitten baserat på antal röster:\")\n",
    "print(top_5_votes[['Episode_Title', 'Votes']])\n",
    "\n",
    "print(\"\\nDe fem sämsta avsnitten baserat på antal röster:\")\n",
    "print(bottom_5_votes[['Episode_Title', 'Votes']])\n"
   ]
  },
  {
   "cell_type": "markdown",
   "metadata": {},
   "source": [
    "För att visa de fem bästa avsnitten och de fem sämsta avsnitten baserat på stjärnor (Stars):"
   ]
  },
  {
   "cell_type": "code",
   "execution_count": 10,
   "metadata": {},
   "outputs": [
    {
     "name": "stdout",
     "output_type": "stream",
     "text": [
      "De fem bästa avsnitten baserat på antal stjärnor:\n",
      "                         Episode_Title  Stars\n",
      "110  the one where everybody finds out    9.7\n",
      "235               the last one: part 2    9.7\n",
      "84            the one with the embryos    9.5\n",
      "234               the last one: part 1    9.5\n",
      "37         the one with the prom video    9.4\n",
      "\n",
      "De fem sämsta avsnitten baserat på antal stjärnor:\n",
      "                         Episode_Title  Stars\n",
      "93         the one with the invitation    7.2\n",
      "140  the one with mac and c.h.e.e.s.e.    7.4\n",
      "166              the one with the vows    7.5\n",
      "188      the one with joey's interview    7.5\n",
      "203    the one with christmas in tulsa    7.5\n"
     ]
    }
   ],
   "source": [
    "# Visa de 5 bästa avsnitten baserat på antal stjärnor (Stars)\n",
    "top_5_stars = df.nlargest(5, 'Stars')\n",
    "\n",
    "# Visa de 5 sämsta avsnitten baserat på antal stjärnor (Stars)\n",
    "bottom_5_stars = df.nsmallest(5, 'Stars')\n",
    "\n",
    "print(\"De fem bästa avsnitten baserat på antal stjärnor:\")\n",
    "print(top_5_stars[['Episode_Title', 'Stars']])\n",
    "\n",
    "print(\"\\nDe fem sämsta avsnitten baserat på antal stjärnor:\")\n",
    "print(bottom_5_stars[['Episode_Title', 'Stars']])\n"
   ]
  },
  {
   "cell_type": "markdown",
   "metadata": {},
   "source": [
    "### För att visa **de fem bästa avsnitten** och **de fem sämsta avsnitten** baserat på antal röster (Votes):\n",
    "\n",
    "### Förklaring:\n",
    "- `nlargest()` hämtar de största värdena i den angivna kolumnen (i detta fall kolumnen `'Votes'` eller `'Stars'`).\n",
    "- `nsmallest()` hämtar de minsta värdena i den angivna kolumnen.\n",
    "- Koden visar avsnittsnamnen (`'Episode_Title'`) tillsammans med de tillhörande värdena för röster eller stjärnor.\n",
    "\n",
    "### Resultat:\n",
    "- **De fem bästa avsnitten baserat på antal röster**: Visar de fem avsnitt med högst antal röster.\n",
    "- **De fem sämsta avsnitten baserat på antal röster**: Visar de fem avsnitt med lägst antal röster.\n",
    "- **De fem bästa avsnitten baserat på antal stjärnor**: Visar de fem avsnitt med högst antal stjärnor (betyg).\n",
    "- **De fem sämsta avsnitten baserat på antal stjärnor**: Visar de fem avsnitt med lägst antal stjärnor (betyg).\n",
    "\n",
    "Se till att kolumnerna `Votes` och `Stars` finns i din DataFrame och att de är korrekt stavade."
   ]
  },
  {
   "cell_type": "markdown",
   "metadata": {},
   "source": [
    "Lägg till felhantering och loggning (för högre betyg): För att uppnå ett högre betyg behöver du säkerställa att skriptet kan hantera fel och logga dem i en loggfil. Detta är viktigt när programmet körs utan mänsklig övervakning."
   ]
  },
  {
   "cell_type": "code",
   "execution_count": 11,
   "metadata": {},
   "outputs": [],
   "source": [
    "import logging\n",
    "\n",
    "# Konfigurera loggfilen\n",
    "logging.basicConfig(filename='process_log.log', level=logging.INFO)\n",
    "\n",
    "try:\n",
    "    # Skriv DataFrame till SQLite-databasen\n",
    "    df.to_sql('episodes', con, if_exists='replace', index=False)\n",
    "    logging.info(\"Data har sparats till databasen framgångsrikt.\")\n",
    "except Exception as e:\n",
    "    logging.error(f\"Ett fel uppstod: {e}\")\n",
    "    \n"
   ]
  },
  {
   "cell_type": "markdown",
   "metadata": {},
   "source": [
    "### Sammanfattning av vad koden gör:\n",
    "\n",
    "1. **Konfigurerar loggning**: Koden ställer in ett loggningssystem som sparar loggmeddelanden i en fil som heter `process_log.log`. Loggar kan inkludera både framgångsmeddelanden och felmeddelanden.\n",
    "\n",
    "2. **Skriver data till databasen**: Koden försöker skriva en DataFrame (data) till en SQLite-databas. Om tabellen redan finns, ersätts den med den nya datan.\n",
    "\n",
    "3. **Loggar framgång**: Om datan skrivs till databasen utan problem, sparas ett framgångsmeddelande i loggfilen som säger att datan har sparats.\n",
    "\n",
    "4. **Hanterar fel**: Om något fel uppstår under processen, fångas felet och ett felmeddelande sparas i loggfilen med detaljer om vad som gick fel.\n",
    "\n",
    "### Resultat:\n",
    "- Om allt fungerar som det ska, loggas ett framgångsmeddelande.\n",
    "- Om ett fel inträffar, loggas ett felmeddelande med information om problemet."
   ]
  },
  {
   "cell_type": "code",
   "execution_count": 12,
   "metadata": {},
   "outputs": [
    {
     "name": "stderr",
     "output_type": "stream",
     "text": [
      ".\n",
      "----------------------------------------------------------------------\n",
      "Ran 1 test in 0.004s\n",
      "\n",
      "OK\n"
     ]
    },
    {
     "data": {
      "text/plain": [
       "<unittest.runner.TextTestResult run=1 errors=0 failures=0>"
      ]
     },
     "execution_count": 12,
     "metadata": {},
     "output_type": "execute_result"
    }
   ],
   "source": [
    "import unittest\n",
    "\n",
    "class TestDataProcessing(unittest.TestCase):\n",
    "    def test_column_existence(self):\n",
    "        df = pd.read_csv('archive/friends_episodes_v3.csv')\n",
    "        self.assertIn('Episode_Title', df.columns)\n",
    "        self.assertIn('Votes', df.columns)\n",
    "        self.assertIn('Stars', df.columns)\n",
    "\n",
    "# Kör testerna manuellt\n",
    "suite = unittest.TestLoader().loadTestsFromTestCase(TestDataProcessing)\n",
    "unittest.TextTestRunner().run(suite)\n"
   ]
  },
  {
   "cell_type": "markdown",
   "metadata": {},
   "source": [
    "\n",
    "### Förklaring:\n",
    "\n",
    "1. **`import unittest`**:\n",
    "   - Importerar Python's `unittest`-modul som används för att skapa och köra enhetstester.\n",
    "\n",
    "2. **`class TestDataProcessing(unittest.TestCase):`**:\n",
    "   - Skapar en testklass som ärver från `unittest.TestCase`, vilket innebär att du kan definiera testmetoder i klassen.\n",
    "\n",
    "3. **`def test_column_existence(self):`**:\n",
    "   - Detta är en testmetod som kontrollerar om vissa kolumner finns i DataFrame efter att data har laddats in från CSV-filen.\n",
    "\n",
    "4. **`df = pd.read_csv('archive/friends_episodes_v3.csv')`**:\n",
    "   - Laddar in CSV-filen till en DataFrame med hjälp av `pandas`.\n",
    "\n",
    "5. **`self.assertIn('Episode_Title', df.columns)`**:\n",
    "   - Kontrollerar om kolumnen `'Episode_Title'` finns i DataFrame.\n",
    "\n",
    "6. **`self.assertIn('Votes', df.columns)`** och **`self.assertIn('Stars', df.columns)`**:\n",
    "   - Kontrollerar om kolumnerna `'Votes'` och `'Stars'` finns i DataFrame.\n",
    "\n",
    "7. **`suite = unittest.TestLoader().loadTestsFromTestCase(TestDataProcessing)`**:\n",
    "   - Laddar alla tester från klassen `TestDataProcessing` och sparar dem i en testsvit.\n",
    "\n",
    "8. **`unittest.TextTestRunner().run(suite)`**:\n",
    "   - Kör testsviten och visar resultaten i terminalen.\n",
    "\n",
    "### Sammanfattning:\n",
    "Denna kod kontrollerar att kolumnerna `'Episode_Title'`, `'Votes'`, och `'Stars'` finns i DataFrame efter att CSV-filen har laddats. Testet körs manuellt och resultaten skrivs ut.\n"
   ]
  }
 ],
 "metadata": {
  "kernelspec": {
   "display_name": "base",
   "language": "python",
   "name": "python3"
  },
  "language_info": {
   "codemirror_mode": {
    "name": "ipython",
    "version": 3
   },
   "file_extension": ".py",
   "mimetype": "text/x-python",
   "name": "python",
   "nbconvert_exporter": "python",
   "pygments_lexer": "ipython3",
   "version": "3.11.5"
  }
 },
 "nbformat": 4,
 "nbformat_minor": 2
}
